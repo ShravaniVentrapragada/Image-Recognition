{
  "nbformat": 4,
  "nbformat_minor": 0,
  "metadata": {
    "kernelspec": {
      "display_name": "Python 3",
      "language": "python",
      "name": "python3"
    },
    "language_info": {
      "codemirror_mode": {
        "name": "ipython",
        "version": 3
      },
      "file_extension": ".py",
      "mimetype": "text/x-python",
      "name": "python",
      "nbconvert_exporter": "python",
      "pygments_lexer": "ipython3",
      "version": "3.8.5"
    },
    "colab": {
      "name": "Object_Detection.ipynb",
      "provenance": []
    }
  },
  "cells": [
    {
      "cell_type": "code",
      "metadata": {
        "id": "T2kwMp_y_Gjv"
      },
      "source": [
        "import cv2\n",
        "import matplotlib.pyplot as plt\n",
        "\n",
        "def detectHC(imgpath):\n",
        "    face_cascade = cv2.CascadeClassifier('haarcascade_frontalface_default.xml')\n",
        "\n",
        "\n",
        "    font = cv2.FONT_HERSHEY_SIMPLEX #font of the image\n",
        "\n",
        "    frame = cv2.imread(imgpath)\n",
        "    frame = cv2.cvtColor(frame, cv2.COLOR_BGR2RGB)\n",
        "\n",
        "    gray = cv2.cvtColor(frame, cv2.COLOR_BGR2GRAY) # Gray Scaling\n",
        "    # function for cascading algorithm\n",
        "    faces = face_Cascade.detectMultiScale(gray, 1.3, 5)\n",
        "\n",
        "    # Draw a rectangle around the faces- bounding box using x,y,w and h\n",
        "    for (x, y, w, h) in faces:\n",
        "        cv2.rectangle(frame, (x, y), (x+w, y+h), (255, 0, 0), 3)\n",
        "        cv2.putText(frame,'Face',(x, y), font, 2,(255,0,0),5)\n",
        "\n",
        "    cv2.putText(frame,'Number of Faces : ' + str(len(faces)),(40, 40), font, 1,(255,0,0),3)\n",
        "    plt.imshow(frame)\n",
        "    plt.show()"
      ],
      "execution_count": null,
      "outputs": []
    },
    {
      "cell_type": "code",
      "metadata": {
        "colab": {
          "base_uri": "https://localhost:8080/",
          "height": 293
        },
        "id": "DxdJGdILIokf",
        "outputId": "de8f0ab1-bf9f-4100-ef3d-8d4c1194ab74"
      },
      "source": [
        "detectHC('/content/drive/MyDrive/Copy of tony.jpg')"
      ],
      "execution_count": null,
      "outputs": [
        {
          "output_type": "error",
          "ename": "error",
          "evalue": "ignored",
          "traceback": [
            "\u001b[0;31m---------------------------------------------------------------------------\u001b[0m",
            "\u001b[0;31merror\u001b[0m                                     Traceback (most recent call last)",
            "\u001b[0;32m<ipython-input-17-ce78ef93bc61>\u001b[0m in \u001b[0;36m<module>\u001b[0;34m()\u001b[0m\n\u001b[0;32m----> 1\u001b[0;31m \u001b[0mdetectHC\u001b[0m\u001b[0;34m(\u001b[0m\u001b[0;34m'/content/drive/MyDrive/Copy of tony.jpg'\u001b[0m\u001b[0;34m)\u001b[0m\u001b[0;34m\u001b[0m\u001b[0;34m\u001b[0m\u001b[0m\n\u001b[0m",
            "\u001b[0;32m<ipython-input-16-c371d6d34af5>\u001b[0m in \u001b[0;36mdetectHC\u001b[0;34m(imgpath)\u001b[0m\n\u001b[1;32m     14\u001b[0m     \u001b[0mgray\u001b[0m \u001b[0;34m=\u001b[0m \u001b[0mcv2\u001b[0m\u001b[0;34m.\u001b[0m\u001b[0mcvtColor\u001b[0m\u001b[0;34m(\u001b[0m\u001b[0mframe\u001b[0m\u001b[0;34m,\u001b[0m \u001b[0mcv2\u001b[0m\u001b[0;34m.\u001b[0m\u001b[0mCOLOR_BGR2GRAY\u001b[0m\u001b[0;34m)\u001b[0m \u001b[0;31m# Gray Scaling\u001b[0m\u001b[0;34m\u001b[0m\u001b[0;34m\u001b[0m\u001b[0m\n\u001b[1;32m     15\u001b[0m     \u001b[0;31m# function for cascading algorithm\u001b[0m\u001b[0;34m\u001b[0m\u001b[0;34m\u001b[0m\u001b[0;34m\u001b[0m\u001b[0m\n\u001b[0;32m---> 16\u001b[0;31m     \u001b[0mfaces\u001b[0m \u001b[0;34m=\u001b[0m \u001b[0mface_Cascade\u001b[0m\u001b[0;34m.\u001b[0m\u001b[0mdetectMultiScale\u001b[0m\u001b[0;34m(\u001b[0m\u001b[0mgray\u001b[0m\u001b[0;34m,\u001b[0m \u001b[0;36m1.3\u001b[0m\u001b[0;34m,\u001b[0m \u001b[0;36m5\u001b[0m\u001b[0;34m)\u001b[0m\u001b[0;34m\u001b[0m\u001b[0;34m\u001b[0m\u001b[0m\n\u001b[0m\u001b[1;32m     17\u001b[0m \u001b[0;34m\u001b[0m\u001b[0m\n\u001b[1;32m     18\u001b[0m     \u001b[0;31m# Draw a rectangle around the faces- bounding box using x,y,w and h\u001b[0m\u001b[0;34m\u001b[0m\u001b[0;34m\u001b[0m\u001b[0;34m\u001b[0m\u001b[0m\n",
            "\u001b[0;31merror\u001b[0m: OpenCV(4.1.2) /io/opencv/modules/objdetect/src/cascadedetect.cpp:1689: error: (-215:Assertion failed) !empty() in function 'detectMultiScale'\n"
          ]
        }
      ]
    },
    {
      "cell_type": "code",
      "metadata": {
        "id": "i1swBocD_Gj1"
      },
      "source": [
        "#Task use eye detector to find eyes "
      ],
      "execution_count": null,
      "outputs": []
    },
    {
      "cell_type": "markdown",
      "metadata": {
        "id": "Vo3i4boT_Gj1"
      },
      "source": [
        "Pedistrian Detection"
      ]
    },
    {
      "cell_type": "code",
      "metadata": {
        "id": "vJwqVU7C_Gj1",
        "colab": {
          "base_uri": "https://localhost:8080/",
          "height": 240
        },
        "outputId": "2eba94ac-cf24-4302-ac90-4435b4a21a38"
      },
      "source": [
        "import cv2\n",
        "import numpy as np\n",
        "\n",
        "# Create our body classifier\n",
        "body_classifier = cv2.CascadeClassifier('./Haarcascades/haarcascade_fullbody.xml')\n",
        "\n",
        "# Initiate video capture for video file\n",
        "cap = cv2.VideoCapture('/content/drive/MyDrive/Copy of walking.avi')\n",
        "\n",
        "\n",
        "while cap.isOpened():\n",
        "    \n",
        "    # Read first frame\n",
        "    ret, frame = cap.read()\n",
        "    frame = cv2.resize(frame, None,fx=0.5, fy=0.5, interpolation = cv2.INTER_LINEAR)\n",
        "\n",
        "    gray = cv2.cvtColor(frame, cv2.COLOR_BGR2GRAY)\n",
        "    # Pass frame to our body classifier\n",
        "    bodies = body_classifier.detectMultiScale(gray, 1.2, 3)\n",
        "    \n",
        "    # Extract bounding boxes for any bodies identified\n",
        "    for (x,y,w,h) in bodies:\n",
        "        cv2.rectangle(frame, (x, y), (x+w, y+h), (0, 255, 255), 2)\n",
        "        cv2.imshow('Pedestrians', frame)\n",
        "\n",
        "   # if cv2.waitKey(1) == 13: #13 is the Enter Key\n",
        "    if cv2.waitKey(25) & 0xFF == ord('q'):\n",
        "        break\n",
        "\n",
        "cap.release()\n",
        "cv2.destroyAllWindows()"
      ],
      "execution_count": null,
      "outputs": [
        {
          "output_type": "error",
          "ename": "error",
          "evalue": "ignored",
          "traceback": [
            "\u001b[0;31m---------------------------------------------------------------------------\u001b[0m",
            "\u001b[0;31merror\u001b[0m                                     Traceback (most recent call last)",
            "\u001b[0;32m<ipython-input-11-62add152d858>\u001b[0m in \u001b[0;36m<module>\u001b[0;34m()\u001b[0m\n\u001b[1;32m     17\u001b[0m     \u001b[0mgray\u001b[0m \u001b[0;34m=\u001b[0m \u001b[0mcv2\u001b[0m\u001b[0;34m.\u001b[0m\u001b[0mcvtColor\u001b[0m\u001b[0;34m(\u001b[0m\u001b[0mframe\u001b[0m\u001b[0;34m,\u001b[0m \u001b[0mcv2\u001b[0m\u001b[0;34m.\u001b[0m\u001b[0mCOLOR_BGR2GRAY\u001b[0m\u001b[0;34m)\u001b[0m\u001b[0;34m\u001b[0m\u001b[0;34m\u001b[0m\u001b[0m\n\u001b[1;32m     18\u001b[0m     \u001b[0;31m# Pass frame to our body classifier\u001b[0m\u001b[0;34m\u001b[0m\u001b[0;34m\u001b[0m\u001b[0;34m\u001b[0m\u001b[0m\n\u001b[0;32m---> 19\u001b[0;31m     \u001b[0mbodies\u001b[0m \u001b[0;34m=\u001b[0m \u001b[0mbody_classifier\u001b[0m\u001b[0;34m.\u001b[0m\u001b[0mdetectMultiScale\u001b[0m\u001b[0;34m(\u001b[0m\u001b[0mgray\u001b[0m\u001b[0;34m,\u001b[0m \u001b[0;36m1.2\u001b[0m\u001b[0;34m,\u001b[0m \u001b[0;36m3\u001b[0m\u001b[0;34m)\u001b[0m\u001b[0;34m\u001b[0m\u001b[0;34m\u001b[0m\u001b[0m\n\u001b[0m\u001b[1;32m     20\u001b[0m \u001b[0;34m\u001b[0m\u001b[0m\n\u001b[1;32m     21\u001b[0m     \u001b[0;31m# Extract bounding boxes for any bodies identified\u001b[0m\u001b[0;34m\u001b[0m\u001b[0;34m\u001b[0m\u001b[0;34m\u001b[0m\u001b[0m\n",
            "\u001b[0;31merror\u001b[0m: OpenCV(4.1.2) /io/opencv/modules/objdetect/src/cascadedetect.cpp:1689: error: (-215:Assertion failed) !empty() in function 'detectMultiScale'\n"
          ]
        }
      ]
    },
    {
      "cell_type": "markdown",
      "metadata": {
        "id": "TIt_5gLd_Gj2"
      },
      "source": [
        "Car detection "
      ]
    },
    {
      "cell_type": "code",
      "metadata": {
        "id": "GvaI3Nt2_Gj2"
      },
      "source": [
        "import cv2\n",
        "import time\n",
        "import numpy as np\n",
        "\n",
        "# Create our body classifier\n",
        "car_classifier = cv2.CascadeClassifier('./Haarcascades/haarcascade_car.xml')\n",
        "\n",
        "# Initiate video capture for video file\n",
        "cap = cv2.VideoCapture('./images/cars.avi')\n",
        "\n",
        "\n",
        "\n",
        "while cap.isOpened():\n",
        "    \n",
        "    time.sleep(.05)\n",
        "    # Read first frame\n",
        "    ret, frame = cap.read()\n",
        "    gray = cv2.cvtColor(frame, cv2.COLOR_BGR2GRAY)\n",
        "   \n",
        "    # Pass frame to our car classifier\n",
        "    cars = car_classifier.detectMultiScale(gray, 1.4, 2)\n",
        "    \n",
        "    # Extract bounding boxes for any bodies identified\n",
        "    for (x,y,w,h) in cars:\n",
        "        cv2.rectangle(frame, (x, y), (x+w, y+h), (0, 255, 255), 2)\n",
        "        cv2.imshow('Cars', frame)\n",
        "\n",
        "    #if cv2.waitKey(1) == 13: #13 is the Enter Key\n",
        "    if cv2.waitKey(25) & 0xFF == ord('q'):\n",
        "        break\n",
        "\n",
        "cap.release()\n",
        "cv2.destroyAllWindows()"
      ],
      "execution_count": null,
      "outputs": []
    }
  ]
}